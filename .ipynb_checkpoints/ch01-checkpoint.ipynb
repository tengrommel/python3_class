{
 "cells": [
  {
   "cell_type": "markdown",
   "metadata": {},
   "source": [
    "## 面向对象设计"
   ]
  },
  {
   "cell_type": "markdown",
   "metadata": {},
   "source": [
    "## 面向对象\n",
    "### 对象是一个数据以及相关行为的集合。\n",
    "### 面向对象简单的意思就是\"功能上指向建模对象\"。\n",
    "### 通过数据和行为来描述交互对象的集合，这是用于对复杂系统建模的众多技术之一。\n",
    "### 面向对象分析(OOA)是着眼于一个问题、系统或者任务的过程，一些人想要把这个过程变成一个应用，并且识别这些对象以及对象间的交互。"
   ]
  },
  {
   "cell_type": "markdown",
   "metadata": {},
   "source": [
    "### 面向对象设计(OOD)是把上面这些需求转化为实践规范的过程。"
   ]
  },
  {
   "cell_type": "markdown",
   "metadata": {},
   "source": [
    "### 面向对象编程(OOP)是把这个完美定义的设计转化成一个可以工作的程序的过程，这个程序恰好做了CEO最初要求做的事情。"
   ]
  },
  {
   "cell_type": "code",
   "execution_count": null,
   "metadata": {
    "collapsed": true
   },
   "outputs": [],
   "source": []
  }
 ],
 "metadata": {
  "kernelspec": {
   "display_name": "Python 3",
   "language": "python",
   "name": "python3"
  },
  "language_info": {
   "codemirror_mode": {
    "name": "ipython",
    "version": 3
   },
   "file_extension": ".py",
   "mimetype": "text/x-python",
   "name": "python",
   "nbconvert_exporter": "python",
   "pygments_lexer": "ipython3",
   "version": "3.5.2+"
  }
 },
 "nbformat": 4,
 "nbformat_minor": 2
}
